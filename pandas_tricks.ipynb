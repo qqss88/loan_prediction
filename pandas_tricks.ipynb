{
 "cells": [
  {
   "cell_type": "markdown",
   "metadata": {},
   "source": [
    "# let us get started\n",
    "I’ll start by importing modules and loading the data set into Python environment:"
   ]
  },
  {
   "cell_type": "code",
   "execution_count": 80,
   "metadata": {
    "collapsed": false
   },
   "outputs": [
    {
     "data": {
      "text/html": [
       "<div>\n",
       "<table border=\"1\" class=\"dataframe\">\n",
       "  <thead>\n",
       "    <tr style=\"text-align: right;\">\n",
       "      <th></th>\n",
       "      <th>Gender</th>\n",
       "      <th>Married</th>\n",
       "      <th>Dependents</th>\n",
       "      <th>Education</th>\n",
       "      <th>Self_Employed</th>\n",
       "      <th>ApplicantIncome</th>\n",
       "      <th>CoapplicantIncome</th>\n",
       "      <th>LoanAmount</th>\n",
       "      <th>Loan_Amount_Term</th>\n",
       "      <th>Credit_History</th>\n",
       "      <th>Property_Area</th>\n",
       "      <th>Loan_Status</th>\n",
       "    </tr>\n",
       "    <tr>\n",
       "      <th>Loan_ID</th>\n",
       "      <th></th>\n",
       "      <th></th>\n",
       "      <th></th>\n",
       "      <th></th>\n",
       "      <th></th>\n",
       "      <th></th>\n",
       "      <th></th>\n",
       "      <th></th>\n",
       "      <th></th>\n",
       "      <th></th>\n",
       "      <th></th>\n",
       "      <th></th>\n",
       "    </tr>\n",
       "  </thead>\n",
       "  <tbody>\n",
       "    <tr>\n",
       "      <th>LP001002</th>\n",
       "      <td>Male</td>\n",
       "      <td>No</td>\n",
       "      <td>0</td>\n",
       "      <td>Graduate</td>\n",
       "      <td>No</td>\n",
       "      <td>5849</td>\n",
       "      <td>0</td>\n",
       "      <td>NaN</td>\n",
       "      <td>360</td>\n",
       "      <td>1</td>\n",
       "      <td>Urban</td>\n",
       "      <td>Y</td>\n",
       "    </tr>\n",
       "    <tr>\n",
       "      <th>LP001003</th>\n",
       "      <td>Male</td>\n",
       "      <td>Yes</td>\n",
       "      <td>1</td>\n",
       "      <td>Graduate</td>\n",
       "      <td>No</td>\n",
       "      <td>4583</td>\n",
       "      <td>1508</td>\n",
       "      <td>128</td>\n",
       "      <td>360</td>\n",
       "      <td>1</td>\n",
       "      <td>Rural</td>\n",
       "      <td>N</td>\n",
       "    </tr>\n",
       "    <tr>\n",
       "      <th>LP001005</th>\n",
       "      <td>Male</td>\n",
       "      <td>Yes</td>\n",
       "      <td>0</td>\n",
       "      <td>Graduate</td>\n",
       "      <td>Yes</td>\n",
       "      <td>3000</td>\n",
       "      <td>0</td>\n",
       "      <td>66</td>\n",
       "      <td>360</td>\n",
       "      <td>1</td>\n",
       "      <td>Urban</td>\n",
       "      <td>Y</td>\n",
       "    </tr>\n",
       "    <tr>\n",
       "      <th>LP001006</th>\n",
       "      <td>Male</td>\n",
       "      <td>Yes</td>\n",
       "      <td>0</td>\n",
       "      <td>Not Graduate</td>\n",
       "      <td>No</td>\n",
       "      <td>2583</td>\n",
       "      <td>2358</td>\n",
       "      <td>120</td>\n",
       "      <td>360</td>\n",
       "      <td>1</td>\n",
       "      <td>Urban</td>\n",
       "      <td>Y</td>\n",
       "    </tr>\n",
       "    <tr>\n",
       "      <th>LP001008</th>\n",
       "      <td>Male</td>\n",
       "      <td>No</td>\n",
       "      <td>0</td>\n",
       "      <td>Graduate</td>\n",
       "      <td>No</td>\n",
       "      <td>6000</td>\n",
       "      <td>0</td>\n",
       "      <td>141</td>\n",
       "      <td>360</td>\n",
       "      <td>1</td>\n",
       "      <td>Urban</td>\n",
       "      <td>Y</td>\n",
       "    </tr>\n",
       "  </tbody>\n",
       "</table>\n",
       "</div>"
      ],
      "text/plain": [
       "         Gender Married Dependents     Education Self_Employed  \\\n",
       "Loan_ID                                                          \n",
       "LP001002   Male      No          0      Graduate            No   \n",
       "LP001003   Male     Yes          1      Graduate            No   \n",
       "LP001005   Male     Yes          0      Graduate           Yes   \n",
       "LP001006   Male     Yes          0  Not Graduate            No   \n",
       "LP001008   Male      No          0      Graduate            No   \n",
       "\n",
       "          ApplicantIncome  CoapplicantIncome  LoanAmount  Loan_Amount_Term  \\\n",
       "Loan_ID                                                                      \n",
       "LP001002             5849                  0         NaN               360   \n",
       "LP001003             4583               1508         128               360   \n",
       "LP001005             3000                  0          66               360   \n",
       "LP001006             2583               2358         120               360   \n",
       "LP001008             6000                  0         141               360   \n",
       "\n",
       "          Credit_History Property_Area Loan_Status  \n",
       "Loan_ID                                             \n",
       "LP001002               1         Urban           Y  \n",
       "LP001003               1         Rural           N  \n",
       "LP001005               1         Urban           Y  \n",
       "LP001006               1         Urban           Y  \n",
       "LP001008               1         Urban           Y  "
      ]
     },
     "execution_count": 80,
     "metadata": {},
     "output_type": "execute_result"
    }
   ],
   "source": [
    "import pandas as pd\n",
    "import numpy as np\n",
    "data = pd.read_csv(\"train.csv\", index_col=\"Loan_ID\")\n",
    "data.head()\n"
   ]
  },
  {
   "cell_type": "markdown",
   "metadata": {},
   "source": [
    "# 1 – Boolean Indexing\n",
    "\n",
    "What do you do, if you want to filter values of a column based on conditions from another set of columns? For instance, we want a list of all females who are not graduate and got a loan. Boolean indexing can help here. You can use the following code:"
   ]
  },
  {
   "cell_type": "code",
   "execution_count": 60,
   "metadata": {
    "collapsed": false
   },
   "outputs": [
    {
     "data": {
      "text/html": [
       "<div>\n",
       "<table border=\"1\" class=\"dataframe\">\n",
       "  <thead>\n",
       "    <tr style=\"text-align: right;\">\n",
       "      <th></th>\n",
       "      <th>Gender</th>\n",
       "      <th>Education</th>\n",
       "      <th>Loan_Status</th>\n",
       "    </tr>\n",
       "    <tr>\n",
       "      <th>Loan_ID</th>\n",
       "      <th></th>\n",
       "      <th></th>\n",
       "      <th></th>\n",
       "    </tr>\n",
       "  </thead>\n",
       "  <tbody>\n",
       "    <tr>\n",
       "      <th>LP001155</th>\n",
       "      <td>Female</td>\n",
       "      <td>Not Graduate</td>\n",
       "      <td>Y</td>\n",
       "    </tr>\n",
       "    <tr>\n",
       "      <th>LP001669</th>\n",
       "      <td>Female</td>\n",
       "      <td>Not Graduate</td>\n",
       "      <td>Y</td>\n",
       "    </tr>\n",
       "    <tr>\n",
       "      <th>LP001692</th>\n",
       "      <td>Female</td>\n",
       "      <td>Not Graduate</td>\n",
       "      <td>Y</td>\n",
       "    </tr>\n",
       "    <tr>\n",
       "      <th>LP001908</th>\n",
       "      <td>Female</td>\n",
       "      <td>Not Graduate</td>\n",
       "      <td>Y</td>\n",
       "    </tr>\n",
       "    <tr>\n",
       "      <th>LP002300</th>\n",
       "      <td>Female</td>\n",
       "      <td>Not Graduate</td>\n",
       "      <td>Y</td>\n",
       "    </tr>\n",
       "    <tr>\n",
       "      <th>LP002314</th>\n",
       "      <td>Female</td>\n",
       "      <td>Not Graduate</td>\n",
       "      <td>Y</td>\n",
       "    </tr>\n",
       "    <tr>\n",
       "      <th>LP002407</th>\n",
       "      <td>Female</td>\n",
       "      <td>Not Graduate</td>\n",
       "      <td>Y</td>\n",
       "    </tr>\n",
       "    <tr>\n",
       "      <th>LP002489</th>\n",
       "      <td>Female</td>\n",
       "      <td>Not Graduate</td>\n",
       "      <td>Y</td>\n",
       "    </tr>\n",
       "    <tr>\n",
       "      <th>LP002502</th>\n",
       "      <td>Female</td>\n",
       "      <td>Not Graduate</td>\n",
       "      <td>Y</td>\n",
       "    </tr>\n",
       "    <tr>\n",
       "      <th>LP002534</th>\n",
       "      <td>Female</td>\n",
       "      <td>Not Graduate</td>\n",
       "      <td>Y</td>\n",
       "    </tr>\n",
       "    <tr>\n",
       "      <th>LP002582</th>\n",
       "      <td>Female</td>\n",
       "      <td>Not Graduate</td>\n",
       "      <td>Y</td>\n",
       "    </tr>\n",
       "    <tr>\n",
       "      <th>LP002731</th>\n",
       "      <td>Female</td>\n",
       "      <td>Not Graduate</td>\n",
       "      <td>Y</td>\n",
       "    </tr>\n",
       "    <tr>\n",
       "      <th>LP002757</th>\n",
       "      <td>Female</td>\n",
       "      <td>Not Graduate</td>\n",
       "      <td>Y</td>\n",
       "    </tr>\n",
       "    <tr>\n",
       "      <th>LP002917</th>\n",
       "      <td>Female</td>\n",
       "      <td>Not Graduate</td>\n",
       "      <td>Y</td>\n",
       "    </tr>\n",
       "  </tbody>\n",
       "</table>\n",
       "</div>"
      ],
      "text/plain": [
       "          Gender     Education Loan_Status\n",
       "Loan_ID                                   \n",
       "LP001155  Female  Not Graduate           Y\n",
       "LP001669  Female  Not Graduate           Y\n",
       "LP001692  Female  Not Graduate           Y\n",
       "LP001908  Female  Not Graduate           Y\n",
       "LP002300  Female  Not Graduate           Y\n",
       "LP002314  Female  Not Graduate           Y\n",
       "LP002407  Female  Not Graduate           Y\n",
       "LP002489  Female  Not Graduate           Y\n",
       "LP002502  Female  Not Graduate           Y\n",
       "LP002534  Female  Not Graduate           Y\n",
       "LP002582  Female  Not Graduate           Y\n",
       "LP002731  Female  Not Graduate           Y\n",
       "LP002757  Female  Not Graduate           Y\n",
       "LP002917  Female  Not Graduate           Y"
      ]
     },
     "execution_count": 60,
     "metadata": {},
     "output_type": "execute_result"
    }
   ],
   "source": [
    "data.loc[(data[\"Gender\"]==\"Female\") & (data[\"Education\"]==\"Not Graduate\") & (data[\"Loan_Status\"]==\"Y\"),\n",
    "         [\"Gender\",\"Education\",\"Loan_Status\"]]\n"
   ]
  },
  {
   "cell_type": "markdown",
   "metadata": {},
   "source": [
    "# 2 – Apply Function\n",
    "\n",
    "It is one of the commonly used functions for playing with data and creating new variables. Apply returns some value after passing each row/column of a data frame with some function. The function can be both default or user-defined. For instance, here it can be used to find the #missing values in each row and column."
   ]
  },
  {
   "cell_type": "code",
   "execution_count": 61,
   "metadata": {
    "collapsed": false
   },
   "outputs": [
    {
     "name": "stdout",
     "output_type": "stream",
     "text": [
      "Missing values per column:\n",
      "Gender               13\n",
      "Married               3\n",
      "Dependents           15\n",
      "Education             0\n",
      "Self_Employed        32\n",
      "ApplicantIncome       0\n",
      "CoapplicantIncome     0\n",
      "LoanAmount           22\n",
      "Loan_Amount_Term     14\n",
      "Credit_History       50\n",
      "Property_Area         0\n",
      "Loan_Status           0\n",
      "dtype: int64\n",
      "\n",
      "Missing values per row:\n",
      "Loan_ID\n",
      "LP001002    1\n",
      "LP001003    0\n",
      "LP001005    0\n",
      "LP001006    0\n",
      "LP001008    0\n",
      "dtype: int64\n"
     ]
    }
   ],
   "source": [
    "#Create a new function:\n",
    "def num_missing(x):\n",
    "  return sum(x.isnull())\n",
    "\n",
    "#Applying per column:\n",
    "print \"Missing values per column:\"\n",
    "print data.apply(num_missing, axis=0) #axis=0 defines that function is to be applied on each column\n",
    "\n",
    "#Applying per row:\n",
    "print \"\\nMissing values per row:\"\n",
    "print data.apply(num_missing, axis=1).head() #axis=1 defines that function is to be applied on each row"
   ]
  },
  {
   "cell_type": "markdown",
   "metadata": {},
   "source": [
    "# 3 - Filling missing values with Mode\n",
    "\n",
    "‘fillna()’ does it in one go. It is used for updating missing values with the overall mean/mode/median of the column. Let’s impute the ‘Gender’, ‘Married’ and ‘Self_Employed’ columns with their respective modes."
   ]
  },
  {
   "cell_type": "code",
   "execution_count": 62,
   "metadata": {
    "collapsed": false
   },
   "outputs": [
    {
     "data": {
      "text/plain": [
       "(array(['Male'], dtype=object), array([ 489.]))"
      ]
     },
     "execution_count": 62,
     "metadata": {},
     "output_type": "execute_result"
    }
   ],
   "source": [
    "#First we import a function to determine the mode\n",
    "from scipy.stats import mode\n",
    "mode(data['Gender'])"
   ]
  },
  {
   "cell_type": "code",
   "execution_count": 63,
   "metadata": {
    "collapsed": false
   },
   "outputs": [
    {
     "data": {
      "text/plain": [
       "'Male'"
      ]
     },
     "execution_count": 63,
     "metadata": {},
     "output_type": "execute_result"
    }
   ],
   "source": [
    "mode(data['Gender'])[0][0]"
   ]
  },
  {
   "cell_type": "code",
   "execution_count": 64,
   "metadata": {
    "collapsed": false
   },
   "outputs": [
    {
     "name": "stdout",
     "output_type": "stream",
     "text": [
      "Gender                0\n",
      "Married               0\n",
      "Dependents           15\n",
      "Education             0\n",
      "Self_Employed         0\n",
      "ApplicantIncome       0\n",
      "CoapplicantIncome     0\n",
      "LoanAmount           22\n",
      "Loan_Amount_Term     14\n",
      "Credit_History       50\n",
      "Property_Area         0\n",
      "Loan_Status           0\n",
      "dtype: int64\n"
     ]
    }
   ],
   "source": [
    "#Impute the values:\n",
    "data['Gender'].fillna(mode(data['Gender'])[0][0], inplace=True)\n",
    "data['Married'].fillna(mode(data['Married'])[0][0], inplace=True)\n",
    "data['Self_Employed'].fillna(mode(data['Self_Employed'])[0][0], inplace=True)\n",
    "\n",
    "#Now check the #missing values again to confirm:\n",
    "print data.apply(num_missing, axis=0)"
   ]
  },
  {
   "cell_type": "markdown",
   "metadata": {},
   "source": [
    "# 4 - Pivot Table\n",
    "\n",
    "Pandas can be used to create MS Excel style pivot tables. For instance, in this case, a key column is “LoanAmount” which has missing values. We can impute it using mean amount of each ‘Gender’, ‘Married’ and ‘Self_Employed’ group. The mean ‘LoanAmount’ of each group can be determined as:"
   ]
  },
  {
   "cell_type": "code",
   "execution_count": 65,
   "metadata": {
    "collapsed": false
   },
   "outputs": [
    {
     "name": "stdout",
     "output_type": "stream",
     "text": [
      "                              LoanAmount\n",
      "Gender Married Self_Employed            \n",
      "Female No      No             114.691176\n",
      "               Yes            125.800000\n",
      "       Yes     No             134.222222\n",
      "               Yes            282.250000\n",
      "Male   No      No             129.936937\n",
      "               Yes            180.588235\n",
      "       Yes     No             153.882736\n",
      "               Yes            169.395833\n"
     ]
    }
   ],
   "source": [
    "  #Determine pivot table\n",
    "impute_grps = data.pivot_table(values=[\"LoanAmount\"], index=[\"Gender\",\"Married\",\"Self_Employed\"], aggfunc=np.mean)\n",
    "print impute_grps\n"
   ]
  },
  {
   "cell_type": "markdown",
   "metadata": {},
   "source": [
    "# 5 – Multi-Indexing and Filling Missing value with group-mean\n",
    "\n",
    "If you notice the output of step #3, it has a strange property. Each index is made up of a combination of 3 values. This is called Multi-Indexing. It helps in performing operations really fast.\n",
    "\n",
    "Continuing the example from #3, we have the values for each group but they have not been imputed.\n",
    "This can be done using the various techniques learned till now."
   ]
  },
  {
   "cell_type": "code",
   "execution_count": 66,
   "metadata": {
    "collapsed": false
   },
   "outputs": [
    {
     "name": "stdout",
     "output_type": "stream",
     "text": [
      "Gender                0\n",
      "Married               0\n",
      "Dependents           15\n",
      "Education             0\n",
      "Self_Employed         0\n",
      "ApplicantIncome       0\n",
      "CoapplicantIncome     0\n",
      "LoanAmount            0\n",
      "Loan_Amount_Term     14\n",
      "Credit_History       50\n",
      "Property_Area         0\n",
      "Loan_Status           0\n",
      "dtype: int64\n"
     ]
    }
   ],
   "source": [
    "#iterate only through rows with missing LoanAmount\n",
    "for i,row in data.loc[data['LoanAmount'].isnull(),:].iterrows():\n",
    "  ind = tuple([row['Gender'],row['Married'],row['Self_Employed']])\n",
    "  data.loc[i,'LoanAmount'] = impute_grps.loc[ind].values[0]\n",
    "\n",
    "#Now check the #missing values again to confirm:\n",
    "print data.apply(num_missing, axis=0)"
   ]
  },
  {
   "cell_type": "markdown",
   "metadata": {},
   "source": [
    "# 6 -  Crosstab\n",
    "This function is used to get an initial “feel” (view) of the data. Here, we can validate some basic hypothesis. For instance, in this case, “Credit_History” is expected to affect the loan status significantly. This can be tested using cross-tabulation as shown below:"
   ]
  },
  {
   "cell_type": "code",
   "execution_count": 67,
   "metadata": {
    "collapsed": false
   },
   "outputs": [
    {
     "data": {
      "text/html": [
       "<div>\n",
       "<table border=\"1\" class=\"dataframe\">\n",
       "  <thead>\n",
       "    <tr style=\"text-align: right;\">\n",
       "      <th>Loan_Status</th>\n",
       "      <th>N</th>\n",
       "      <th>Y</th>\n",
       "      <th>All</th>\n",
       "    </tr>\n",
       "    <tr>\n",
       "      <th>Credit_History</th>\n",
       "      <th></th>\n",
       "      <th></th>\n",
       "      <th></th>\n",
       "    </tr>\n",
       "  </thead>\n",
       "  <tbody>\n",
       "    <tr>\n",
       "      <th>0.0</th>\n",
       "      <td>82</td>\n",
       "      <td>7</td>\n",
       "      <td>89</td>\n",
       "    </tr>\n",
       "    <tr>\n",
       "      <th>1.0</th>\n",
       "      <td>97</td>\n",
       "      <td>378</td>\n",
       "      <td>475</td>\n",
       "    </tr>\n",
       "    <tr>\n",
       "      <th>All</th>\n",
       "      <td>192</td>\n",
       "      <td>422</td>\n",
       "      <td>614</td>\n",
       "    </tr>\n",
       "  </tbody>\n",
       "</table>\n",
       "</div>"
      ],
      "text/plain": [
       "Loan_Status       N    Y  All\n",
       "Credit_History               \n",
       "0.0              82    7   89\n",
       "1.0              97  378  475\n",
       "All             192  422  614"
      ]
     },
     "execution_count": 67,
     "metadata": {},
     "output_type": "execute_result"
    }
   ],
   "source": [
    "pd.crosstab(data[\"Credit_History\"],data[\"Loan_Status\"],margins=True)"
   ]
  },
  {
   "cell_type": "code",
   "execution_count": 68,
   "metadata": {
    "collapsed": false
   },
   "outputs": [
    {
     "data": {
      "text/html": [
       "<div>\n",
       "<table border=\"1\" class=\"dataframe\">\n",
       "  <thead>\n",
       "    <tr style=\"text-align: right;\">\n",
       "      <th>Loan_Status</th>\n",
       "      <th>N</th>\n",
       "      <th>Y</th>\n",
       "      <th>All</th>\n",
       "    </tr>\n",
       "    <tr>\n",
       "      <th>Credit_History</th>\n",
       "      <th></th>\n",
       "      <th></th>\n",
       "      <th></th>\n",
       "    </tr>\n",
       "  </thead>\n",
       "  <tbody>\n",
       "    <tr>\n",
       "      <th>0.0</th>\n",
       "      <td>0.921348</td>\n",
       "      <td>0.078652</td>\n",
       "      <td>1</td>\n",
       "    </tr>\n",
       "    <tr>\n",
       "      <th>1.0</th>\n",
       "      <td>0.204211</td>\n",
       "      <td>0.795789</td>\n",
       "      <td>1</td>\n",
       "    </tr>\n",
       "    <tr>\n",
       "      <th>All</th>\n",
       "      <td>0.312704</td>\n",
       "      <td>0.687296</td>\n",
       "      <td>1</td>\n",
       "    </tr>\n",
       "  </tbody>\n",
       "</table>\n",
       "</div>"
      ],
      "text/plain": [
       "Loan_Status            N         Y  All\n",
       "Credit_History                         \n",
       "0.0             0.921348  0.078652    1\n",
       "1.0             0.204211  0.795789    1\n",
       "All             0.312704  0.687296    1"
      ]
     },
     "execution_count": 68,
     "metadata": {},
     "output_type": "execute_result"
    }
   ],
   "source": [
    "def percConvert(ser):\n",
    "  return ser/float(ser[-1])\n",
    "pd.crosstab(data[\"Credit_History\"],data[\"Loan_Status\"],margins=True).apply(percConvert, axis=1)"
   ]
  },
  {
   "cell_type": "markdown",
   "metadata": {},
   "source": [
    "Now, it is evident that people with a credit history have much higher chances of getting a loan as 80% people with credit history got a loan as compared to only 9% without credit history.\n",
    "\n",
    "But that’s not it. It tells an interesting story. Since I know that having a credit history is super important, what if I predict loan status to be Y for ones with credit history and N otherwise. Surprisingly, we’ll be right 82+378=460 times out of 614 which is a whopping 75%!\n",
    "\n",
    "I won’t blame you if you’re wondering why the hell do we need statistical models. But trust me, increasing the accuracy by even 0.001% beyond this mark is a challenging task. Would you take this challenge?\n",
    "\n",
    "Note: 75% is on train set. The test set will be slightly different but close. Also, I hope this gives some intuition into why even a 0.05% increase in accuracy can result in jump of 500 ranks on the Kaggle leaderboard."
   ]
  },
  {
   "cell_type": "markdown",
   "metadata": {},
   "source": [
    "# 7 - Merge DataFrames\n",
    "Merging dataframes become essential when we have information coming from different sources to be collated. Consider a hypothetical case where the average property rates (INR per sq meters) is available for different property types. Let’s define a dataframe as:"
   ]
  },
  {
   "cell_type": "code",
   "execution_count": 69,
   "metadata": {
    "collapsed": false
   },
   "outputs": [
    {
     "data": {
      "text/html": [
       "<div>\n",
       "<table border=\"1\" class=\"dataframe\">\n",
       "  <thead>\n",
       "    <tr style=\"text-align: right;\">\n",
       "      <th></th>\n",
       "      <th>rates</th>\n",
       "    </tr>\n",
       "  </thead>\n",
       "  <tbody>\n",
       "    <tr>\n",
       "      <th>Rural</th>\n",
       "      <td>1000</td>\n",
       "    </tr>\n",
       "    <tr>\n",
       "      <th>Semiurban</th>\n",
       "      <td>5000</td>\n",
       "    </tr>\n",
       "    <tr>\n",
       "      <th>Urban</th>\n",
       "      <td>12000</td>\n",
       "    </tr>\n",
       "  </tbody>\n",
       "</table>\n",
       "</div>"
      ],
      "text/plain": [
       "           rates\n",
       "Rural       1000\n",
       "Semiurban   5000\n",
       "Urban      12000"
      ]
     },
     "execution_count": 69,
     "metadata": {},
     "output_type": "execute_result"
    }
   ],
   "source": [
    "prop_rates = pd.DataFrame([1000, 5000, 12000], index=['Rural','Semiurban','Urban'],columns=['rates'])\n",
    "prop_rates"
   ]
  },
  {
   "cell_type": "markdown",
   "metadata": {},
   "source": [
    "Now we can merge this information with the original dataframe as:\n",
    "\n"
   ]
  },
  {
   "cell_type": "code",
   "execution_count": 70,
   "metadata": {
    "collapsed": false
   },
   "outputs": [
    {
     "data": {
      "text/html": [
       "<div>\n",
       "<table border=\"1\" class=\"dataframe\">\n",
       "  <thead>\n",
       "    <tr style=\"text-align: right;\">\n",
       "      <th></th>\n",
       "      <th>Loan_Amount_Term</th>\n",
       "      <th>Credit_History</th>\n",
       "      <th>Property_Area</th>\n",
       "      <th>Loan_Status</th>\n",
       "      <th>rates</th>\n",
       "    </tr>\n",
       "    <tr>\n",
       "      <th>Loan_ID</th>\n",
       "      <th></th>\n",
       "      <th></th>\n",
       "      <th></th>\n",
       "      <th></th>\n",
       "      <th></th>\n",
       "    </tr>\n",
       "  </thead>\n",
       "  <tbody>\n",
       "    <tr>\n",
       "      <th>LP001002</th>\n",
       "      <td>360</td>\n",
       "      <td>1</td>\n",
       "      <td>Urban</td>\n",
       "      <td>Y</td>\n",
       "      <td>12000</td>\n",
       "    </tr>\n",
       "    <tr>\n",
       "      <th>LP001005</th>\n",
       "      <td>360</td>\n",
       "      <td>1</td>\n",
       "      <td>Urban</td>\n",
       "      <td>Y</td>\n",
       "      <td>12000</td>\n",
       "    </tr>\n",
       "    <tr>\n",
       "      <th>LP001006</th>\n",
       "      <td>360</td>\n",
       "      <td>1</td>\n",
       "      <td>Urban</td>\n",
       "      <td>Y</td>\n",
       "      <td>12000</td>\n",
       "    </tr>\n",
       "    <tr>\n",
       "      <th>LP001008</th>\n",
       "      <td>360</td>\n",
       "      <td>1</td>\n",
       "      <td>Urban</td>\n",
       "      <td>Y</td>\n",
       "      <td>12000</td>\n",
       "    </tr>\n",
       "    <tr>\n",
       "      <th>LP001011</th>\n",
       "      <td>360</td>\n",
       "      <td>1</td>\n",
       "      <td>Urban</td>\n",
       "      <td>Y</td>\n",
       "      <td>12000</td>\n",
       "    </tr>\n",
       "  </tbody>\n",
       "</table>\n",
       "</div>"
      ],
      "text/plain": [
       "          Loan_Amount_Term  Credit_History Property_Area Loan_Status  rates\n",
       "Loan_ID                                                                    \n",
       "LP001002               360               1         Urban           Y  12000\n",
       "LP001005               360               1         Urban           Y  12000\n",
       "LP001006               360               1         Urban           Y  12000\n",
       "LP001008               360               1         Urban           Y  12000\n",
       "LP001011               360               1         Urban           Y  12000"
      ]
     },
     "execution_count": 70,
     "metadata": {},
     "output_type": "execute_result"
    }
   ],
   "source": [
    "data_merged = data.merge(right=prop_rates, how='inner',left_on='Property_Area',right_index=True, sort=False)\n",
    "#data_merged.pivot_table(values='Credit_History',index=['Property_Area','rates'], aggfunc=len)\n",
    "data_merged.head().iloc[:,-5:]"
   ]
  },
  {
   "cell_type": "code",
   "execution_count": 71,
   "metadata": {
    "collapsed": false
   },
   "outputs": [
    {
     "data": {
      "text/plain": [
       "Property_Area  rates\n",
       "Rural          1000     179\n",
       "Semiurban      5000     233\n",
       "Urban          12000    202\n",
       "Name: Credit_History, dtype: float64"
      ]
     },
     "execution_count": 71,
     "metadata": {},
     "output_type": "execute_result"
    }
   ],
   "source": [
    "data_merged.pivot_table(values='Credit_History',index=['Property_Area','rates'], aggfunc=len)"
   ]
  },
  {
   "cell_type": "markdown",
   "metadata": {},
   "source": [
    "The pivot table validates successful merge operation. Note that the ‘values’ argument is irrelevant here because we are simply counting the values."
   ]
  },
  {
   "cell_type": "markdown",
   "metadata": {},
   "source": [
    "# 8 – Sorting DataFrames\n",
    "Pandas allow easy sorting based on multiple columns. This can be done as:"
   ]
  },
  {
   "cell_type": "code",
   "execution_count": 72,
   "metadata": {
    "collapsed": false
   },
   "outputs": [
    {
     "data": {
      "text/html": [
       "<div>\n",
       "<table border=\"1\" class=\"dataframe\">\n",
       "  <thead>\n",
       "    <tr style=\"text-align: right;\">\n",
       "      <th></th>\n",
       "      <th>ApplicantIncome</th>\n",
       "      <th>CoapplicantIncome</th>\n",
       "    </tr>\n",
       "    <tr>\n",
       "      <th>Loan_ID</th>\n",
       "      <th></th>\n",
       "      <th></th>\n",
       "    </tr>\n",
       "  </thead>\n",
       "  <tbody>\n",
       "    <tr>\n",
       "      <th>LP002317</th>\n",
       "      <td>81000</td>\n",
       "      <td>0</td>\n",
       "    </tr>\n",
       "    <tr>\n",
       "      <th>LP002101</th>\n",
       "      <td>63337</td>\n",
       "      <td>0</td>\n",
       "    </tr>\n",
       "    <tr>\n",
       "      <th>LP001585</th>\n",
       "      <td>51763</td>\n",
       "      <td>0</td>\n",
       "    </tr>\n",
       "    <tr>\n",
       "      <th>LP001536</th>\n",
       "      <td>39999</td>\n",
       "      <td>0</td>\n",
       "    </tr>\n",
       "    <tr>\n",
       "      <th>LP001640</th>\n",
       "      <td>39147</td>\n",
       "      <td>4750</td>\n",
       "    </tr>\n",
       "    <tr>\n",
       "      <th>LP002422</th>\n",
       "      <td>37719</td>\n",
       "      <td>0</td>\n",
       "    </tr>\n",
       "    <tr>\n",
       "      <th>LP001637</th>\n",
       "      <td>33846</td>\n",
       "      <td>0</td>\n",
       "    </tr>\n",
       "    <tr>\n",
       "      <th>LP001448</th>\n",
       "      <td>23803</td>\n",
       "      <td>0</td>\n",
       "    </tr>\n",
       "    <tr>\n",
       "      <th>LP002624</th>\n",
       "      <td>20833</td>\n",
       "      <td>6667</td>\n",
       "    </tr>\n",
       "    <tr>\n",
       "      <th>LP001922</th>\n",
       "      <td>20667</td>\n",
       "      <td>0</td>\n",
       "    </tr>\n",
       "  </tbody>\n",
       "</table>\n",
       "</div>"
      ],
      "text/plain": [
       "          ApplicantIncome  CoapplicantIncome\n",
       "Loan_ID                                     \n",
       "LP002317            81000                  0\n",
       "LP002101            63337                  0\n",
       "LP001585            51763                  0\n",
       "LP001536            39999                  0\n",
       "LP001640            39147               4750\n",
       "LP002422            37719                  0\n",
       "LP001637            33846                  0\n",
       "LP001448            23803                  0\n",
       "LP002624            20833               6667\n",
       "LP001922            20667                  0"
      ]
     },
     "execution_count": 72,
     "metadata": {},
     "output_type": "execute_result"
    }
   ],
   "source": [
    "data_sorted = data.sort(['ApplicantIncome','CoapplicantIncome'], ascending=False)\n",
    "\n",
    "data_sorted[['ApplicantIncome','CoapplicantIncome']].head(10)"
   ]
  },
  {
   "cell_type": "markdown",
   "metadata": {},
   "source": [
    "# 9 – Plotting (Boxplot & Histogram)\n",
    "\n",
    "Many of you might be unaware that boxplots and histograms can be directly plotted in Pandas and calling matplotlib separately is not necessary. It’s just a 1-line command. For instance, if we want to compare the distribution of ApplicantIncome by Loan_Status:"
   ]
  },
  {
   "cell_type": "code",
   "execution_count": 73,
   "metadata": {
    "collapsed": false
   },
   "outputs": [
    {
     "data": {
      "text/plain": [
       "<matplotlib.axes._subplots.AxesSubplot at 0x108d6aed0>"
      ]
     },
     "execution_count": 73,
     "metadata": {},
     "output_type": "execute_result"
    },
    {
     "data": {
      "image/png": "[encoded data removed]",
      "text/plain": [
       "<matplotlib.figure.Figure at 0x108d45e50>"
      ]
     },
     "metadata": {},
     "output_type": "display_data"
    }
   ],
   "source": [
    "import matplotlib.pyplot as plt\n",
    "%matplotlib inline\n",
    "data.boxplot(column=\"ApplicantIncome\",by=\"Loan_Status\")"
   ]
  },
  {
   "cell_type": "code",
   "execution_count": 74,
   "metadata": {
    "collapsed": false
   },
   "outputs": [
    {
     "data": {
      "text/plain": [
       "array([<matplotlib.axes._subplots.AxesSubplot object at 0x108d74c90>,\n",
       "       <matplotlib.axes._subplots.AxesSubplot object at 0x108f96310>], dtype=object)"
      ]
     },
     "execution_count": 74,
     "metadata": {},
     "output_type": "execute_result"
    },
    {
     "data": {
      "image/png": "[encoded data removed]",
      "text/plain": [
       "<matplotlib.figure.Figure at 0x108d74b90>"
      ]
     },
     "metadata": {},
     "output_type": "display_data"
    }
   ],
   "source": [
    "data.hist(column=\"ApplicantIncome\",by=\"Loan_Status\",bins=30)"
   ]
  },
  {
   "cell_type": "markdown",
   "metadata": {},
   "source": [
    "This shows that income is not a big deciding factor on its own as there is no appreciable difference between the people who received and were denied the loan.\n",
    "\n"
   ]
  },
  {
   "cell_type": "markdown",
   "metadata": {},
   "source": [
    "# 10 – Cut function for binning\n",
    "\n",
    "Sometimes numerical values make more sense if clustered together. For example, if we’re trying to model traffic (#cars on road) with time of the day (minutes). The exact minute of an hour might not be that relevant for predicting traffic as compared to actual period of the day like “Morning”, “Afternoon”, “Evening”, “Night”, “Late Night”. Modeling traffic this way will be more intuitive and will avoid overfitting.\n",
    "\n",
    "Here we define a simple function which can be re-used for binning any variable fairly easily."
   ]
  },
  {
   "cell_type": "code",
   "execution_count": 75,
   "metadata": {
    "collapsed": false
   },
   "outputs": [
    {
     "name": "stdout",
     "output_type": "stream",
     "text": [
      "low          104\n",
      "medium       273\n",
      "high         146\n",
      "very high     91\n",
      "dtype: int64\n"
     ]
    }
   ],
   "source": [
    "#Binning:\n",
    "def binning(col, cut_points, labels=None):\n",
    "  #Define min and max values:\n",
    "  minval = col.min()\n",
    "  maxval = col.max()\n",
    "\n",
    "  #create list by adding min and max to cut_points\n",
    "  break_points = [minval] + cut_points + [maxval]\n",
    "\n",
    "  #if no labels provided, use default labels 0 ... (n-1)\n",
    "  if not labels:\n",
    "    labels = range(len(cut_points)+1)\n",
    "\n",
    "  #Binning using cut function of pandas\n",
    "  colBin = pd.cut(col,bins=break_points,labels=labels,include_lowest=True)\n",
    "  return colBin\n",
    "\n",
    "#Binning age:\n",
    "cut_points = [90,140,190]\n",
    "labels = [\"low\",\"medium\",\"high\",\"very high\"]\n",
    "data[\"LoanAmount_Bin\"] = binning(data[\"LoanAmount\"], cut_points, labels)\n",
    "print pd.value_counts(data[\"LoanAmount_Bin\"], sort=False)"
   ]
  },
  {
   "cell_type": "markdown",
   "metadata": {},
   "source": [
    "# 11 – Coding nominal data\n",
    "\n",
    "Often, we find a case where we’ve to modify the categories of a nominal variable. This can be due to various reasons:\n",
    "\n",
    "Some algorithms (like Logistic Regression) require all inputs to be numeric. So nominal variables are mostly coded as 0, 1….(n-1)\n",
    "Sometimes a category might be represented in 2 ways. For e.g. temperature might be recorded as “High”, “Medium”, “Low”, “H”, “low”. Here, both “High” and “H” refer to same category. Similarly, in “Low” and “low” there is only a difference of case. But, python would read them as different levels.\n",
    "Some categories might have very low frequencies and its generally a good idea to combine them.\n",
    "Here I’ve defined a generic function which takes in input as a dictionary and codes the values using ‘replace’ function in Pandas."
   ]
  },
  {
   "cell_type": "code",
   "execution_count": 76,
   "metadata": {
    "collapsed": false
   },
   "outputs": [
    {
     "name": "stdout",
     "output_type": "stream",
     "text": [
      "Before Coding:\n",
      "Y    422\n",
      "N    192\n",
      "dtype: int64\n",
      "\n",
      "After Coding:\n",
      "1    422\n",
      "0    192\n",
      "dtype: int64\n"
     ]
    }
   ],
   "source": [
    "#Define a generic function using Pandas replace function\n",
    "def coding(col, codeDict):\n",
    "  colCoded = pd.Series(col, copy=True)\n",
    "  for key, value in codeDict.items():\n",
    "    colCoded.replace(key, value, inplace=True)\n",
    "  return colCoded\n",
    " \n",
    "#Coding LoanStatus as Y=1, N=0:\n",
    "print 'Before Coding:'\n",
    "print pd.value_counts(data[\"Loan_Status\"])\n",
    "data[\"Loan_Status_Coded\"] = coding(data[\"Loan_Status\"], {'N':0,'Y':1})\n",
    "print '\\nAfter Coding:'\n",
    "print pd.value_counts(data[\"Loan_Status_Coded\"])"
   ]
  },
  {
   "cell_type": "markdown",
   "metadata": {},
   "source": [
    "Similar counts before and after proves the coding.\n",
    "\n"
   ]
  },
  {
   "cell_type": "markdown",
   "metadata": {},
   "source": [
    "# 12 – Iterating over rows of a dataframe\n",
    "\n",
    "This is not a frequently used operation. Still, you don’t want to get stuck. Right? At times you may need to iterate through all rows using a for loop. For instance, one common problem we face is the incorrect treatment of variables in Python. This generally happens when:\n",
    "\n",
    "Nominal variables with numeric categories are treated as numerical.\n",
    "Numeric variables with characters entered in one of the rows (due to a data error) are considered categorical.\n",
    "So it’s generally a good idea to manually define the column types. If we check the data types of all columns:"
   ]
  },
  {
   "cell_type": "code",
   "execution_count": 77,
   "metadata": {
    "collapsed": false
   },
   "outputs": [
    {
     "data": {
      "text/plain": [
       "Gender                 object\n",
       "Married                object\n",
       "Dependents             object\n",
       "Education              object\n",
       "Self_Employed          object\n",
       "ApplicantIncome         int64\n",
       "CoapplicantIncome     float64\n",
       "LoanAmount            float64\n",
       "Loan_Amount_Term      float64\n",
       "Credit_History        float64\n",
       "Property_Area          object\n",
       "Loan_Status            object\n",
       "LoanAmount_Bin       category\n",
       "Loan_Status_Coded       int64\n",
       "dtype: object"
      ]
     },
     "execution_count": 77,
     "metadata": {},
     "output_type": "execute_result"
    }
   ],
   "source": [
    "#Check current type:\n",
    "data.dtypes"
   ]
  },
  {
   "cell_type": "markdown",
   "metadata": {},
   "source": [
    "Here we see that Credit_History is a nominal variable but appearing as float. A good way to tackle such issues is to create a csv file with column names and types. This way, we can make a generic function to read the file and assign column data types. For instance, here I have created a csv file datatypes.csv."
   ]
  },
  {
   "cell_type": "code",
   "execution_count": 78,
   "metadata": {
    "collapsed": false
   },
   "outputs": [
    {
     "name": "stdout",
     "output_type": "stream",
     "text": [
      "              feature      type\n",
      "0              Gender  category\n",
      "1             Married  category\n",
      "2          Dependents  category\n",
      "3           Education  category\n",
      "4       Self_Employed  category\n",
      "5     ApplicantIncome  category\n",
      "6   CoapplicantIncome      cont\n",
      "7          LoanAmount      cont\n",
      "8    Loan_Amount_Term      cont\n",
      "9      Credit_History      cont\n",
      "10      Property_Area  category\n",
      "11        Loan_Status  category\n",
      "12     LoanAmount_Bin  category\n",
      "13  Loan_Status_Coded  category\n"
     ]
    }
   ],
   "source": [
    "#Load the file:\n",
    "#Load the file:\n",
    "#pd.read_csv()\n",
    "#colTypes = pd.read_csv('datatypes.csv')\n",
    "#print colTypes\n",
    "colTypes = pd.read_csv('data_type.csv',sep='\\t')\n",
    "print colTypes"
   ]
  },
  {
   "cell_type": "markdown",
   "metadata": {},
   "source": [
    "After loading this file, we can iterate through each row and assign the datatype using column ‘type’ to the variable name defined in the ‘feature’ column.\n",
    "\n"
   ]
  },
  {
   "cell_type": "code",
   "execution_count": 79,
   "metadata": {
    "collapsed": false
   },
   "outputs": [
    {
     "name": "stdout",
     "output_type": "stream",
     "text": [
      "Gender                 object\n",
      "Married                object\n",
      "Dependents             object\n",
      "Education              object\n",
      "Self_Employed          object\n",
      "ApplicantIncome         int64\n",
      "CoapplicantIncome     float64\n",
      "LoanAmount            float64\n",
      "Loan_Amount_Term      float64\n",
      "Credit_History        float64\n",
      "Property_Area          object\n",
      "Loan_Status            object\n",
      "LoanAmount_Bin       category\n",
      "Loan_Status_Coded       int64\n",
      "dtype: object\n"
     ]
    }
   ],
   "source": [
    "#Iterate through each row and assign variable type.\n",
    "#Note: astype is used to assign types\n",
    "\n",
    "for i, row in colTypes.iterrows(): #i: dataframe index; row: each row in series format\n",
    "  if row['feature']==\"category\":\n",
    "    data[row['feature']]=data[row['feature']].astype(np.object)\n",
    "  elif row['feature']==\"cont\":\n",
    "    data[row['feature']]=data[row['feature']].astype(np.float)\n",
    "print data.dtypes"
   ]
  },
  {
   "cell_type": "markdown",
   "metadata": {},
   "source": [
    "Now the credit history column is modified to ‘object’ type which is used for representing nominal variables in Pandas."
   ]
  },
  {
   "cell_type": "markdown",
   "metadata": {},
   "source": [
    "# End Notes\n",
    "\n",
    "In this article, we covered various functions of Pandas which can make our life easy while performing data exploration and feature engineering. Also, we defined some generic functions which can be reused for achieving similar objective on different datasets.\n",
    "\n",
    "Also See: If you have any doubts pertaining to Pandas or Python in general, feel free to discuss with us.\n",
    "\n",
    "Did you find the article useful? Do you use some better (easier/faster) techniques for performing the tasks discussed above? Do you think there are better alternatives to Pandas in Python? We’ll be glad if you share your thoughts as comments below."
   ]
  },
  {
   "cell_type": "code",
   "execution_count": null,
   "metadata": {
    "collapsed": true
   },
   "outputs": [],
   "source": []
  },
  {
   "cell_type": "code",
   "execution_count": null,
   "metadata": {
    "collapsed": true
   },
   "outputs": [],
   "source": []
  }
 ],
 "metadata": {
  "kernelspec": {
   "display_name": "Python 2",
   "language": "python",
   "name": "python2"
  },
  "language_info": {
   "codemirror_mode": {
    "name": "ipython",
    "version": 2
   },
   "file_extension": ".py",
   "mimetype": "text/x-python",
   "name": "python",
   "nbconvert_exporter": "python",
   "pygments_lexer": "ipython2",
   "version": "2.7.10"
  }
 },
 "nbformat": 4,
 "nbformat_minor": 0
}
